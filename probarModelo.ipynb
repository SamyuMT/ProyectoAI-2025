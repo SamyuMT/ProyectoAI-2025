{
 "cells": [
  {
   "cell_type": "code",
   "execution_count": 19,
   "id": "2f622173",
   "metadata": {},
   "outputs": [],
   "source": [
    "# ejemplo: consulta del usuario\n",
    "payload = {\n",
    "    # ───────────── UBICACIÓN / TIEMPO ─────────────\n",
    "    \"DPTO_MPIO\":      11001,     # Código DIVIPOLA (11001 = Bogotá D.C.)\n",
    "    \"ANO_CENSO\":      2000,      # Año de la visita del CEED usada para la estimación\n",
    "    \"TRIMESTRE\":      4,         # 1-I, 2-II, 3-III, 4-IV\n",
    "    \"ANIO_MESINICIO\": 2014,      # Año en que inició la obra (aprox.)  ─► opcional\n",
    "\n",
    "    # ───────────── CARACTERÍSTICAS GENERALES ─────────────\n",
    "    \"DESTINO2\":       1,         # 1=Vivienda, 4=Comercio, etc.\n",
    "    \"ESTADO_ACT\":     1,         # Estado actual: 1=En construcción\n",
    "    \"ESTRATO\":        4,         # Estrato (0–6)\n",
    "    \"LOCALIDAD2\":     11,        # Localidad / Comuna (0 si no aplica)\n",
    "    \"AMPLIACION\":     2,         # 1=Sí, 2=No (obra nueva)\n",
    "    \"OB_FORMAL\":      2,         # 1=Formal, 2=Informal\n",
    "    \"USO\":            1,         # Uso principal (1=Residencial)\n",
    "    \"USO_DOS\":        0,         # Uso secundario (0=ninguno)\n",
    "\n",
    "    # ───────────── SUPERFICIES (m²) ─────────────\n",
    "    \"AREATOTCO2\":     10_780,     # Área total construida\n",
    "    \"AREATOTZC\":      32_025,     # Área de zonas comunes\n",
    "    \"AREAVENUNI\":     70.04,     # Área unitaria de venta\n",
    "    \"AREAVENDIB\":     11_755,    # Área vendible total (aprox.)\n",
    "    \"AREA_NOVIS\":     14_780,    # m² destinados a No-VIS\n",
    "    # Desglose por rango de valor:\n",
    "    \"AREA_RANVIVI_1\": 0.0,\n",
    "    \"AREA_RANVIVI_2\": 0.0,\n",
    "    \"AREA_RANVIVI_3\": 0.0,\n",
    "    \"AREA_RANVIVI_4\": 3_589.43,\n",
    "    \"AREA_RANVIVI_5\": 11_190.57,\n",
    "    \"AREA_RANVIVI_6\": 0.0,\n",
    "\n",
    "    # ───────────── CONTEOS DE UNIDADES ─────────────\n",
    "    \"UNI_DEC_NOVIS\":     140,    # Nº viviendas No-VIS\n",
    "    \"UNIDEC_RANVIVI_1\":  0,\n",
    "    \"UNIDEC_RANVIVI_2\":  0,\n",
    "    \"UNIDEC_RANVIVI_3\":  0,\n",
    "    \"UNIDEC_RANVIVI_4\":  34,\n",
    "    \"UNIDEC_RANVIVI_5\": 106,\n",
    "    \"UNIDEC_RANVIVI_6\": 0,\n",
    "    \"NUMUNIDEST\":       140,     # Unidades destinadas\n",
    "    \"NUMUNIVEN\":        0,       # Unidades en venta\n",
    "    \"NUMUNIXVEN\":       17,      # Unidades vendidas\n",
    "    \"NRO_EDIFIC\":       1,       # Nº edificios en el proyecto\n",
    "    \"NRO_PISOS\":        18,      # Nº pisos\n",
    "\n",
    "    # ───────────── MANO DE OBRA / COSTOS ─────────────\n",
    "    \"MANO_OBRAP\":   1,           # % personal propio (0-100)\n",
    "    \"MANO_OBRAT\":   155,         # % contratistas (puede exceder 100 por reporte)\n",
    "    \"MANO_OBRAF\":   0.0,         # Costo mano de obra (si se aporta; 0=desconocido)\n",
    "\n",
    "    # ───────────── VALOR DECLARADO ─────────────\n",
    "    \"PRECIOVTAX\":   7_288.93,    # Valor m² (miles COP)  ← ¡variable objetivo en training!\n",
    "    \"TIPOVRDEST\":   1,           # 1=Costo, 2=Precio, …\n",
    "\n",
    "    # ───────────── AVANCE GLOBAL ─────────────\n",
    "    \"CAPITULO\":    2,            # Capítulo principal censado (referencia interna)\n",
    "    \"GRADOAVANC\":  85,           # % avance total\n",
    "\n",
    "    # ───────────── PORCENTAJES POR CAPÍTULO (0-100) ─────────────\n",
    "    \"C1_EXCAVACION\":     100,\n",
    "    \"C1_CIMENTACION\":    100,\n",
    "    \"C1_DESAGUES\":       100,\n",
    "    \"C2_ESTRUCTURA\":      15,\n",
    "    \"C2_INST_HIDELEC\":     0,\n",
    "    \"C2_CUBIERTA\":         0,\n",
    "    \"C3_MAMPOSTERIA\":      0,\n",
    "    \"C3_PANETE\":           0,\n",
    "    \"C4_PISO_ENCHAPE\":     0,\n",
    "    \"C4_CARP_METALICA\":    0,\n",
    "    \"C4_CARP_MADERA\":      29.15,\n",
    "    \"C4_CIELO_RASO\":       29.42,\n",
    "    \"C5_VID_CERRAJERIA\":   0,\n",
    "    \"C5_PINTURA\":          0,\n",
    "    \"C6_REM_EXTERIORES\":   0,\n",
    "    \"C6_REM_ACABADOS\":     0,\n",
    "    \"C6_ASEO\":             0,\n",
    "\n",
    "    # ───────────── SISTEMA CONSTRUCTIVO & FORMALIDAD ─────────────\n",
    "    \"SIS_CONSTR\":        4,      # 1=Tradicional, 4=Industrializado, etc.\n",
    "    \"LIC_RADICADO_SN\":   1,      # 1=Sí, 2=No\n",
    "    \"MOVIMIENTO_ENC\":    1,      # 1=Movimiento de tierras ejecutado\n",
    "\n",
    "    # ───────────── RANGOS / BANDERAS ─────────────\n",
    "    \"RANVIVI\":            6,     # 1-6: rango de valor principal\n",
    "}"
   ]
  },
  {
   "cell_type": "code",
   "execution_count": null,
   "id": "493225ee",
   "metadata": {},
   "outputs": [
    {
     "name": "stdout",
     "output_type": "stream",
     "text": [
      "🏷️  Estimación: 4,574.4 mil COP por m²\n"
     ]
    }
   ],
   "source": [
    "import numpy as np\n",
    "import pandas as pd\n",
    "\n",
    "# cargar\n",
    "preproc   = joblib.load(\"modelos/PruebaTest/feature_pipeline.joblib\")\n",
    "y_scaler  = joblib.load(\"modelos/PruebaTest/y_scaler.joblib\")\n",
    "model     = joblib.load(\"modelos/final/XGBoost_model.joblib\")\n",
    "\n",
    "\n",
    "X_new = pd.DataFrame([payload])\n",
    "\n",
    "# transformar + predecir\n",
    "X_new_trans   = preproc.transform(X_new)\n",
    "y_pred_scaled = model.predict(X_new_trans)\n",
    "price_m2      = y_scaler.inverse_transform(y_pred_scaled.reshape(-1,1)).ravel()[0]   # miles COP/m²\n",
    "\n",
    "print(f\"🏷️  Estimación: {price_m2:,.1f} mil COP por m²\")\n"
   ]
  },
  {
   "cell_type": "code",
   "execution_count": 3,
   "id": "1d7d9be5",
   "metadata": {},
   "outputs": [
    {
     "name": "stdout",
     "output_type": "stream",
     "text": [
      "🏷️  Estimación: 5,168.5 mil COP por m²\n"
     ]
    },
    {
     "name": "stderr",
     "output_type": "stream",
     "text": [
      "c:\\Users\\JemyC\\AppData\\Local\\Programs\\Python\\Python313\\Lib\\site-packages\\sklearn\\utils\\validation.py:2739: UserWarning: X does not have valid feature names, but LGBMRegressor was fitted with feature names\n",
      "  warnings.warn(\n",
      "c:\\Users\\JemyC\\AppData\\Local\\Programs\\Python\\Python313\\Lib\\site-packages\\joblib\\externals\\loky\\backend\\context.py:136: UserWarning: Could not find the number of physical cores for the following reason:\n",
      "[WinError 2] El sistema no puede encontrar el archivo especificado\n",
      "Returning the number of logical cores instead. You can silence this warning by setting LOKY_MAX_CPU_COUNT to the number of cores you want to use.\n",
      "  warnings.warn(\n",
      "  File \"c:\\Users\\JemyC\\AppData\\Local\\Programs\\Python\\Python313\\Lib\\site-packages\\joblib\\externals\\loky\\backend\\context.py\", line 257, in _count_physical_cores\n",
      "    cpu_info = subprocess.run(\n",
      "        \"wmic CPU Get NumberOfCores /Format:csv\".split(),\n",
      "        capture_output=True,\n",
      "        text=True,\n",
      "    )\n",
      "  File \"c:\\Users\\JemyC\\AppData\\Local\\Programs\\Python\\Python313\\Lib\\subprocess.py\", line 554, in run\n",
      "    with Popen(*popenargs, **kwargs) as process:\n",
      "         ~~~~~^^^^^^^^^^^^^^^^^^^^^^\n",
      "  File \"c:\\Users\\JemyC\\AppData\\Local\\Programs\\Python\\Python313\\Lib\\subprocess.py\", line 1036, in __init__\n",
      "    self._execute_child(args, executable, preexec_fn, close_fds,\n",
      "    ~~~~~~~~~~~~~~~~~~~^^^^^^^^^^^^^^^^^^^^^^^^^^^^^^^^^^^^^^^^^\n",
      "                        pass_fds, cwd, env,\n",
      "                        ^^^^^^^^^^^^^^^^^^^\n",
      "    ...<5 lines>...\n",
      "                        gid, gids, uid, umask,\n",
      "                        ^^^^^^^^^^^^^^^^^^^^^^\n",
      "                        start_new_session, process_group)\n",
      "                        ^^^^^^^^^^^^^^^^^^^^^^^^^^^^^^^^^\n",
      "  File \"c:\\Users\\JemyC\\AppData\\Local\\Programs\\Python\\Python313\\Lib\\subprocess.py\", line 1548, in _execute_child\n",
      "    hp, ht, pid, tid = _winapi.CreateProcess(executable, args,\n",
      "                       ~~~~~~~~~~~~~~~~~~~~~^^^^^^^^^^^^^^^^^^\n",
      "                             # no special security\n",
      "                             ^^^^^^^^^^^^^^^^^^^^^\n",
      "    ...<4 lines>...\n",
      "                             cwd,\n",
      "                             ^^^^\n",
      "                             startupinfo)\n",
      "                             ^^^^^^^^^^^^\n"
     ]
    }
   ],
   "source": [
    "# cargar\n",
    "preproc   = joblib.load(\"modelos/Prueba_II/feature_pipeline.joblib\")\n",
    "y_scaler  = joblib.load(\"modelos/Prueba_II/y_scaler.joblib\")\n",
    "model     = joblib.load(\"modelos/Prueba_II/lgbm_reg.joblib\")\n",
    "\n",
    "\n",
    "X_new = pd.DataFrame([payload])\n",
    "\n",
    "# transformar + predecir\n",
    "X_new_trans   = preproc.transform(X_new)\n",
    "y_pred_scaled = model.predict(X_new_trans)\n",
    "price_m2      = y_scaler.inverse_transform(y_pred_scaled.reshape(-1,1)).ravel()[0]   # miles COP/m²\n",
    "\n",
    "print(f\"🏷️  Estimación: {price_m2:,.1f} mil COP por m²\")"
   ]
  },
  {
   "cell_type": "code",
   "execution_count": 4,
   "id": "3d28ce81",
   "metadata": {},
   "outputs": [
    {
     "name": "stdout",
     "output_type": "stream",
     "text": [
      "🏷️  Estimación: 4,363.2 mil COP por m²\n"
     ]
    },
    {
     "name": "stderr",
     "output_type": "stream",
     "text": [
      "c:\\Users\\JemyC\\AppData\\Local\\Programs\\Python\\Python313\\Lib\\site-packages\\sklearn\\utils\\validation.py:2739: UserWarning: X does not have valid feature names, but LGBMRegressor was fitted with feature names\n",
      "  warnings.warn(\n"
     ]
    }
   ],
   "source": [
    "# cargar\n",
    "preproc   = joblib.load(\"modelos/Prueba_II/feature_pipeline.joblib\")\n",
    "y_scaler  = joblib.load(\"modelos/Prueba_II/y_scaler.joblib\")\n",
    "model     = joblib.load(\"modelos/Prueba_II_Best/LGBM_model.joblib\")\n",
    "\n",
    "\n",
    "X_new = pd.DataFrame([payload])\n",
    "\n",
    "# transformar + predecir\n",
    "X_new_trans   = preproc.transform(X_new)\n",
    "y_pred_scaled = model.predict(X_new_trans)\n",
    "price_m2      = y_scaler.inverse_transform(y_pred_scaled.reshape(-1,1)).ravel()[0]   # miles COP/m²\n",
    "\n",
    "print(f\"🏷️  Estimación: {price_m2:,.1f} mil COP por m²\")"
   ]
  },
  {
   "cell_type": "code",
   "execution_count": 5,
   "id": "8aef0295",
   "metadata": {},
   "outputs": [
    {
     "name": "stdout",
     "output_type": "stream",
     "text": [
      "🏷️  Estimación: 4,875.0 mil COP por m²\n"
     ]
    },
    {
     "name": "stderr",
     "output_type": "stream",
     "text": [
      "c:\\Users\\JemyC\\AppData\\Local\\Programs\\Python\\Python313\\Lib\\site-packages\\sklearn\\utils\\validation.py:2739: UserWarning: X does not have valid feature names, but LGBMRegressor was fitted with feature names\n",
      "  warnings.warn(\n"
     ]
    }
   ],
   "source": [
    "# cargar\n",
    "preproc   = joblib.load(\"modelos/PruebaTest/feature_pipeline.joblib\")\n",
    "y_scaler  = joblib.load(\"modelos/PruebaTest/y_scaler.joblib\")\n",
    "model     = joblib.load(\"modelos/final/LGBM_model.joblib\")\n",
    "\n",
    "\n",
    "X_new = pd.DataFrame([payload])\n",
    "\n",
    "# transformar + predecir\n",
    "X_new_trans   = preproc.transform(X_new)\n",
    "y_pred_scaled = model.predict(X_new_trans)\n",
    "price_m2      = y_scaler.inverse_transform(y_pred_scaled.reshape(-1,1)).ravel()[0]   # miles COP/m²\n",
    "\n",
    "print(f\"🏷️  Estimación: {price_m2:,.1f} mil COP por m²\")"
   ]
  },
  {
   "cell_type": "code",
   "execution_count": null,
   "id": "3660e73d",
   "metadata": {},
   "outputs": [],
   "source": []
  },
  {
   "cell_type": "code",
   "execution_count": 23,
   "id": "cbc822e9",
   "metadata": {},
   "outputs": [
    {
     "name": "stdout",
     "output_type": "stream",
     "text": [
      "🏷️  Estimación: 4,875.0 mil COP por m²\n"
     ]
    },
    {
     "name": "stderr",
     "output_type": "stream",
     "text": [
      "c:\\Users\\JemyC\\AppData\\Local\\Programs\\Python\\Python313\\Lib\\site-packages\\sklearn\\utils\\validation.py:2739: UserWarning: X does not have valid feature names, but LGBMRegressor was fitted with feature names\n",
      "  warnings.warn(\n"
     ]
    }
   ],
   "source": [
    "# cargar\n",
    "preproc   = joblib.load(\"modelos/PruebaTest/feature_pipeline.joblib\")\n",
    "y_scaler  = joblib.load(\"modelos/PruebaTest/y_scaler.joblib\")\n",
    "model     = joblib.load(\"modelos/final_models/LGBM_Full_model.joblib\")\n",
    "\n",
    "\n",
    "X_new = pd.DataFrame([payload])\n",
    "\n",
    "# transformar + predecir\n",
    "X_new_trans   = preproc.transform(X_new)\n",
    "y_pred_scaled = model.predict(X_new_trans)\n",
    "price_m2      = y_scaler.inverse_transform(y_pred_scaled.reshape(-1,1)).ravel()[0]   # miles COP/m²\n",
    "\n",
    "print(f\"🏷️  Estimación: {price_m2:,.1f} mil COP por m²\")"
   ]
  },
  {
   "cell_type": "code",
   "execution_count": null,
   "id": "51f29a92",
   "metadata": {},
   "outputs": [],
   "source": [
    "import os\n",
    "from agentAI.agent import *\n",
    "api_key = os.getenv(\"DEEPSEEK_API_KEY\")"
   ]
  },
  {
   "cell_type": "code",
   "execution_count": null,
   "id": "34f4e75c",
   "metadata": {},
   "outputs": [],
   "source": []
  },
  {
   "cell_type": "code",
   "execution_count": null,
   "id": "3cb7b7ef",
   "metadata": {},
   "outputs": [],
   "source": [
    "pdf_path = \"cuestionario_visual_053.pdf\"\n",
    "# Uso\n",
    "agent = AgentEstimacionCEED(api_key)\n",
    "result = agent.process_ceed_form(pdf_path)\n",
    "\n",
    "if result:\n",
    "    print(\"Datos extraídos:\")\n",
    "    print(json.dumps(result, indent=2))\n",
    "else:\n",
    "    print(\"No se pudo procesar el PDF\")"
   ]
  },
  {
   "cell_type": "code",
   "execution_count": null,
   "id": "0380434d",
   "metadata": {},
   "outputs": [],
   "source": [
    "import joblib\n",
    "import json"
   ]
  },
  {
   "cell_type": "code",
   "execution_count": 4,
   "id": "0de80a09",
   "metadata": {},
   "outputs": [],
   "source": [
    "preproc   = joblib.load(\"modelos/PruebaTest/feature_pipeline.joblib\")\n",
    "y_scaler  = joblib.load(\"modelos/PruebaTest/y_scaler.joblib\")\n",
    "model     = joblib.load(\"modelos/final_models/LGBM_Full_model.joblib\")"
   ]
  },
  {
   "cell_type": "code",
   "execution_count": 6,
   "id": "b3eee123",
   "metadata": {},
   "outputs": [],
   "source": [
    "result = json.loads(result)"
   ]
  },
  {
   "cell_type": "code",
   "execution_count": null,
   "id": "dc3afca1",
   "metadata": {},
   "outputs": [
    {
     "name": "stdout",
     "output_type": "stream",
     "text": [
      "6949.625015111051\n"
     ]
    },
    {
     "name": "stderr",
     "output_type": "stream",
     "text": [
      "c:\\Users\\JemyC\\AppData\\Local\\Programs\\Python\\Python313\\Lib\\site-packages\\sklearn\\utils\\validation.py:2739: UserWarning: X does not have valid feature names, but LGBMRegressor was fitted with feature names\n",
      "  warnings.warn(\n"
     ]
    }
   ],
   "source": [
    "X_new = pd.DataFrame([result])\n",
    "\n",
    "# transformar + predecir\n",
    "X_new_trans   = preproc.transform(X_new)\n",
    "y_pred_scaled = model.predict(X_new_trans)\n",
    "price_m2      = y_scaler.inverse_transform(y_pred_scaled.reshape(-1,1)).ravel()[0]   # miles COP/m²\n",
    "\n",
    "print(price_m2)"
   ]
  },
  {
   "cell_type": "code",
   "execution_count": null,
   "id": "3654296f",
   "metadata": {},
   "outputs": [],
   "source": []
  }
 ],
 "metadata": {
  "kernelspec": {
   "display_name": "Python 3",
   "language": "python",
   "name": "python3"
  },
  "language_info": {
   "codemirror_mode": {
    "name": "ipython",
    "version": 3
   },
   "file_extension": ".py",
   "mimetype": "text/x-python",
   "name": "python",
   "nbconvert_exporter": "python",
   "pygments_lexer": "ipython3",
   "version": "3.13.1"
  }
 },
 "nbformat": 4,
 "nbformat_minor": 5
}
